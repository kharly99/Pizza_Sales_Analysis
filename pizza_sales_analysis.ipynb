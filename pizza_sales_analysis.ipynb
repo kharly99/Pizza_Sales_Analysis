{
 "cells": [
  {
   "cell_type": "markdown",
   "id": "0d4c8e4d-af70-48d3-8fce-5222a43fdbdf",
   "metadata": {},
   "source": [
    "## Import Your Libraries"
   ]
  },
  {
   "cell_type": "code",
   "execution_count": 1,
   "id": "7f9fc808-d0a9-4ef3-96e4-8e8371cbff91",
   "metadata": {},
   "outputs": [
    {
     "data": {
      "text/plain": [
       "<Figure size 640x480 with 0 Axes>"
      ]
     },
     "metadata": {},
     "output_type": "display_data"
    },
    {
     "data": {
      "text/plain": [
       "<Figure size 640x480 with 0 Axes>"
      ]
     },
     "metadata": {},
     "output_type": "display_data"
    }
   ],
   "source": [
    "import pandas as pd\n",
    "import numpy as np\n",
    "import matplotlib.pyplot as plt\n",
    "import seaborn as sns\n",
    "sns.set()\n",
    "%matplotlib inline\n",
    "from IPython.display import display\n",
    "display(plt.gcf())  "
   ]
  },
  {
   "cell_type": "markdown",
   "id": "3f2d139a-d6d7-4891-810b-66335e29a513",
   "metadata": {},
   "source": [
    "## Using Pandas To Load All Four Datasets"
   ]
  },
  {
   "cell_type": "code",
   "execution_count": 2,
   "id": "c40ca3f6-d7ca-40b2-9270-67836b7ada58",
   "metadata": {},
   "outputs": [
    {
     "data": {
      "text/html": [
       "<div>\n",
       "<style scoped>\n",
       "    .dataframe tbody tr th:only-of-type {\n",
       "        vertical-align: middle;\n",
       "    }\n",
       "\n",
       "    .dataframe tbody tr th {\n",
       "        vertical-align: top;\n",
       "    }\n",
       "\n",
       "    .dataframe thead th {\n",
       "        text-align: right;\n",
       "    }\n",
       "</style>\n",
       "<table border=\"1\" class=\"dataframe\">\n",
       "  <thead>\n",
       "    <tr style=\"text-align: right;\">\n",
       "      <th></th>\n",
       "      <th>order_id</th>\n",
       "      <th>date</th>\n",
       "      <th>time</th>\n",
       "    </tr>\n",
       "  </thead>\n",
       "  <tbody>\n",
       "    <tr>\n",
       "      <th>0</th>\n",
       "      <td>1</td>\n",
       "      <td>2015-01-01</td>\n",
       "      <td>11:38:36</td>\n",
       "    </tr>\n",
       "    <tr>\n",
       "      <th>1</th>\n",
       "      <td>2</td>\n",
       "      <td>2015-01-01</td>\n",
       "      <td>11:57:40</td>\n",
       "    </tr>\n",
       "    <tr>\n",
       "      <th>2</th>\n",
       "      <td>3</td>\n",
       "      <td>2015-01-01</td>\n",
       "      <td>12:12:28</td>\n",
       "    </tr>\n",
       "    <tr>\n",
       "      <th>3</th>\n",
       "      <td>4</td>\n",
       "      <td>2015-01-01</td>\n",
       "      <td>12:16:31</td>\n",
       "    </tr>\n",
       "    <tr>\n",
       "      <th>4</th>\n",
       "      <td>5</td>\n",
       "      <td>2015-01-01</td>\n",
       "      <td>12:21:30</td>\n",
       "    </tr>\n",
       "    <tr>\n",
       "      <th>...</th>\n",
       "      <td>...</td>\n",
       "      <td>...</td>\n",
       "      <td>...</td>\n",
       "    </tr>\n",
       "    <tr>\n",
       "      <th>21345</th>\n",
       "      <td>21346</td>\n",
       "      <td>2015-12-31</td>\n",
       "      <td>20:51:07</td>\n",
       "    </tr>\n",
       "    <tr>\n",
       "      <th>21346</th>\n",
       "      <td>21347</td>\n",
       "      <td>2015-12-31</td>\n",
       "      <td>21:14:37</td>\n",
       "    </tr>\n",
       "    <tr>\n",
       "      <th>21347</th>\n",
       "      <td>21348</td>\n",
       "      <td>2015-12-31</td>\n",
       "      <td>21:23:10</td>\n",
       "    </tr>\n",
       "    <tr>\n",
       "      <th>21348</th>\n",
       "      <td>21349</td>\n",
       "      <td>2015-12-31</td>\n",
       "      <td>22:09:54</td>\n",
       "    </tr>\n",
       "    <tr>\n",
       "      <th>21349</th>\n",
       "      <td>21350</td>\n",
       "      <td>2015-12-31</td>\n",
       "      <td>23:02:05</td>\n",
       "    </tr>\n",
       "  </tbody>\n",
       "</table>\n",
       "<p>21350 rows × 3 columns</p>\n",
       "</div>"
      ],
      "text/plain": [
       "       order_id        date      time\n",
       "0             1  2015-01-01  11:38:36\n",
       "1             2  2015-01-01  11:57:40\n",
       "2             3  2015-01-01  12:12:28\n",
       "3             4  2015-01-01  12:16:31\n",
       "4             5  2015-01-01  12:21:30\n",
       "...         ...         ...       ...\n",
       "21345     21346  2015-12-31  20:51:07\n",
       "21346     21347  2015-12-31  21:14:37\n",
       "21347     21348  2015-12-31  21:23:10\n",
       "21348     21349  2015-12-31  22:09:54\n",
       "21349     21350  2015-12-31  23:02:05\n",
       "\n",
       "[21350 rows x 3 columns]"
      ]
     },
     "execution_count": 2,
     "metadata": {},
     "output_type": "execute_result"
    }
   ],
   "source": [
    "orders = pd.read_csv(r\"C:\\Users\\Administrator\\Downloads\\Pizza+Place+Sales\\pizza_sales\\orders.csv\")\n",
    "orders_details = pd.read_csv(r\"C:\\Users\\Administrator\\Downloads\\Pizza+Place+Sales\\pizza_sales\\order_details.csv\")\n",
    "pizzas = pd.read_csv(r\"C:\\Users\\Administrator\\Downloads\\Pizza+Place+Sales\\pizza_sales\\pizzas.csv\")\n",
    "pizza_details = pd.read_csv(r\"C:\\Users\\Administrator\\Downloads\\Pizza+Place+Sales\\pizza_sales\\pizza_types.csv\", encoding='cp1252')\n",
    "\n",
    "orders"
   ]
  },
  {
   "cell_type": "markdown",
   "id": "9500b77c-9674-43e8-849b-5606c41a9928",
   "metadata": {},
   "source": [
    "## Check the Columns of Your Datasets"
   ]
  },
  {
   "cell_type": "code",
   "execution_count": 3,
   "id": "7824d4ad-8029-496f-bd16-aa5f34377615",
   "metadata": {},
   "outputs": [
    {
     "data": {
      "text/html": [
       "<div>\n",
       "<style scoped>\n",
       "    .dataframe tbody tr th:only-of-type {\n",
       "        vertical-align: middle;\n",
       "    }\n",
       "\n",
       "    .dataframe tbody tr th {\n",
       "        vertical-align: top;\n",
       "    }\n",
       "\n",
       "    .dataframe thead th {\n",
       "        text-align: right;\n",
       "    }\n",
       "</style>\n",
       "<table border=\"1\" class=\"dataframe\">\n",
       "  <thead>\n",
       "    <tr style=\"text-align: right;\">\n",
       "      <th></th>\n",
       "      <th>order_id</th>\n",
       "      <th>date</th>\n",
       "      <th>time</th>\n",
       "    </tr>\n",
       "  </thead>\n",
       "  <tbody>\n",
       "    <tr>\n",
       "      <th>0</th>\n",
       "      <td>1</td>\n",
       "      <td>2015-01-01</td>\n",
       "      <td>11:38:36</td>\n",
       "    </tr>\n",
       "    <tr>\n",
       "      <th>1</th>\n",
       "      <td>2</td>\n",
       "      <td>2015-01-01</td>\n",
       "      <td>11:57:40</td>\n",
       "    </tr>\n",
       "    <tr>\n",
       "      <th>2</th>\n",
       "      <td>3</td>\n",
       "      <td>2015-01-01</td>\n",
       "      <td>12:12:28</td>\n",
       "    </tr>\n",
       "    <tr>\n",
       "      <th>3</th>\n",
       "      <td>4</td>\n",
       "      <td>2015-01-01</td>\n",
       "      <td>12:16:31</td>\n",
       "    </tr>\n",
       "    <tr>\n",
       "      <th>4</th>\n",
       "      <td>5</td>\n",
       "      <td>2015-01-01</td>\n",
       "      <td>12:21:30</td>\n",
       "    </tr>\n",
       "  </tbody>\n",
       "</table>\n",
       "</div>"
      ],
      "text/plain": [
       "   order_id        date      time\n",
       "0         1  2015-01-01  11:38:36\n",
       "1         2  2015-01-01  11:57:40\n",
       "2         3  2015-01-01  12:12:28\n",
       "3         4  2015-01-01  12:16:31\n",
       "4         5  2015-01-01  12:21:30"
      ]
     },
     "execution_count": 3,
     "metadata": {},
     "output_type": "execute_result"
    }
   ],
   "source": [
    "orders.head()"
   ]
  },
  {
   "cell_type": "code",
   "execution_count": 4,
   "id": "e2e8071e-7dc8-4d9e-b242-54a48c636292",
   "metadata": {},
   "outputs": [
    {
     "data": {
      "text/html": [
       "<div>\n",
       "<style scoped>\n",
       "    .dataframe tbody tr th:only-of-type {\n",
       "        vertical-align: middle;\n",
       "    }\n",
       "\n",
       "    .dataframe tbody tr th {\n",
       "        vertical-align: top;\n",
       "    }\n",
       "\n",
       "    .dataframe thead th {\n",
       "        text-align: right;\n",
       "    }\n",
       "</style>\n",
       "<table border=\"1\" class=\"dataframe\">\n",
       "  <thead>\n",
       "    <tr style=\"text-align: right;\">\n",
       "      <th></th>\n",
       "      <th>order_details_id</th>\n",
       "      <th>order_id</th>\n",
       "      <th>pizza_id</th>\n",
       "      <th>quantity</th>\n",
       "    </tr>\n",
       "  </thead>\n",
       "  <tbody>\n",
       "    <tr>\n",
       "      <th>0</th>\n",
       "      <td>1</td>\n",
       "      <td>1</td>\n",
       "      <td>hawaiian_m</td>\n",
       "      <td>1</td>\n",
       "    </tr>\n",
       "    <tr>\n",
       "      <th>1</th>\n",
       "      <td>2</td>\n",
       "      <td>2</td>\n",
       "      <td>classic_dlx_m</td>\n",
       "      <td>1</td>\n",
       "    </tr>\n",
       "    <tr>\n",
       "      <th>2</th>\n",
       "      <td>3</td>\n",
       "      <td>2</td>\n",
       "      <td>five_cheese_l</td>\n",
       "      <td>1</td>\n",
       "    </tr>\n",
       "    <tr>\n",
       "      <th>3</th>\n",
       "      <td>4</td>\n",
       "      <td>2</td>\n",
       "      <td>ital_supr_l</td>\n",
       "      <td>1</td>\n",
       "    </tr>\n",
       "    <tr>\n",
       "      <th>4</th>\n",
       "      <td>5</td>\n",
       "      <td>2</td>\n",
       "      <td>mexicana_m</td>\n",
       "      <td>1</td>\n",
       "    </tr>\n",
       "  </tbody>\n",
       "</table>\n",
       "</div>"
      ],
      "text/plain": [
       "   order_details_id  order_id       pizza_id  quantity\n",
       "0                 1         1     hawaiian_m         1\n",
       "1                 2         2  classic_dlx_m         1\n",
       "2                 3         2  five_cheese_l         1\n",
       "3                 4         2    ital_supr_l         1\n",
       "4                 5         2     mexicana_m         1"
      ]
     },
     "execution_count": 4,
     "metadata": {},
     "output_type": "execute_result"
    }
   ],
   "source": [
    "orders_details.head()"
   ]
  },
  {
   "cell_type": "code",
   "execution_count": 5,
   "id": "e4d2bab0-c76f-48f8-a162-f05cb17660bc",
   "metadata": {},
   "outputs": [
    {
     "data": {
      "text/html": [
       "<div>\n",
       "<style scoped>\n",
       "    .dataframe tbody tr th:only-of-type {\n",
       "        vertical-align: middle;\n",
       "    }\n",
       "\n",
       "    .dataframe tbody tr th {\n",
       "        vertical-align: top;\n",
       "    }\n",
       "\n",
       "    .dataframe thead th {\n",
       "        text-align: right;\n",
       "    }\n",
       "</style>\n",
       "<table border=\"1\" class=\"dataframe\">\n",
       "  <thead>\n",
       "    <tr style=\"text-align: right;\">\n",
       "      <th></th>\n",
       "      <th>pizza_id</th>\n",
       "      <th>pizza_type_id</th>\n",
       "      <th>size</th>\n",
       "      <th>price</th>\n",
       "    </tr>\n",
       "  </thead>\n",
       "  <tbody>\n",
       "    <tr>\n",
       "      <th>0</th>\n",
       "      <td>bbq_ckn_s</td>\n",
       "      <td>bbq_ckn</td>\n",
       "      <td>S</td>\n",
       "      <td>12.75</td>\n",
       "    </tr>\n",
       "    <tr>\n",
       "      <th>1</th>\n",
       "      <td>bbq_ckn_m</td>\n",
       "      <td>bbq_ckn</td>\n",
       "      <td>M</td>\n",
       "      <td>16.75</td>\n",
       "    </tr>\n",
       "    <tr>\n",
       "      <th>2</th>\n",
       "      <td>bbq_ckn_l</td>\n",
       "      <td>bbq_ckn</td>\n",
       "      <td>L</td>\n",
       "      <td>20.75</td>\n",
       "    </tr>\n",
       "    <tr>\n",
       "      <th>3</th>\n",
       "      <td>cali_ckn_s</td>\n",
       "      <td>cali_ckn</td>\n",
       "      <td>S</td>\n",
       "      <td>12.75</td>\n",
       "    </tr>\n",
       "    <tr>\n",
       "      <th>4</th>\n",
       "      <td>cali_ckn_m</td>\n",
       "      <td>cali_ckn</td>\n",
       "      <td>M</td>\n",
       "      <td>16.75</td>\n",
       "    </tr>\n",
       "  </tbody>\n",
       "</table>\n",
       "</div>"
      ],
      "text/plain": [
       "     pizza_id pizza_type_id size  price\n",
       "0   bbq_ckn_s       bbq_ckn    S  12.75\n",
       "1   bbq_ckn_m       bbq_ckn    M  16.75\n",
       "2   bbq_ckn_l       bbq_ckn    L  20.75\n",
       "3  cali_ckn_s      cali_ckn    S  12.75\n",
       "4  cali_ckn_m      cali_ckn    M  16.75"
      ]
     },
     "execution_count": 5,
     "metadata": {},
     "output_type": "execute_result"
    }
   ],
   "source": [
    "pizzas.head()"
   ]
  },
  {
   "cell_type": "code",
   "execution_count": 6,
   "id": "d0f4d612-22d7-4500-aecd-5e2f6a14e8c1",
   "metadata": {},
   "outputs": [
    {
     "data": {
      "text/html": [
       "<div>\n",
       "<style scoped>\n",
       "    .dataframe tbody tr th:only-of-type {\n",
       "        vertical-align: middle;\n",
       "    }\n",
       "\n",
       "    .dataframe tbody tr th {\n",
       "        vertical-align: top;\n",
       "    }\n",
       "\n",
       "    .dataframe thead th {\n",
       "        text-align: right;\n",
       "    }\n",
       "</style>\n",
       "<table border=\"1\" class=\"dataframe\">\n",
       "  <thead>\n",
       "    <tr style=\"text-align: right;\">\n",
       "      <th></th>\n",
       "      <th>pizza_type_id</th>\n",
       "      <th>name</th>\n",
       "      <th>category</th>\n",
       "      <th>ingredients</th>\n",
       "    </tr>\n",
       "  </thead>\n",
       "  <tbody>\n",
       "    <tr>\n",
       "      <th>0</th>\n",
       "      <td>bbq_ckn</td>\n",
       "      <td>The Barbecue Chicken Pizza</td>\n",
       "      <td>Chicken</td>\n",
       "      <td>Barbecued Chicken, Red Peppers, Green Peppers,...</td>\n",
       "    </tr>\n",
       "    <tr>\n",
       "      <th>1</th>\n",
       "      <td>cali_ckn</td>\n",
       "      <td>The California Chicken Pizza</td>\n",
       "      <td>Chicken</td>\n",
       "      <td>Chicken, Artichoke, Spinach, Garlic, Jalapeno ...</td>\n",
       "    </tr>\n",
       "    <tr>\n",
       "      <th>2</th>\n",
       "      <td>ckn_alfredo</td>\n",
       "      <td>The Chicken Alfredo Pizza</td>\n",
       "      <td>Chicken</td>\n",
       "      <td>Chicken, Red Onions, Red Peppers, Mushrooms, A...</td>\n",
       "    </tr>\n",
       "    <tr>\n",
       "      <th>3</th>\n",
       "      <td>ckn_pesto</td>\n",
       "      <td>The Chicken Pesto Pizza</td>\n",
       "      <td>Chicken</td>\n",
       "      <td>Chicken, Tomatoes, Red Peppers, Spinach, Garli...</td>\n",
       "    </tr>\n",
       "    <tr>\n",
       "      <th>4</th>\n",
       "      <td>southw_ckn</td>\n",
       "      <td>The Southwest Chicken Pizza</td>\n",
       "      <td>Chicken</td>\n",
       "      <td>Chicken, Tomatoes, Red Peppers, Red Onions, Ja...</td>\n",
       "    </tr>\n",
       "  </tbody>\n",
       "</table>\n",
       "</div>"
      ],
      "text/plain": [
       "  pizza_type_id                          name category  \\\n",
       "0       bbq_ckn    The Barbecue Chicken Pizza  Chicken   \n",
       "1      cali_ckn  The California Chicken Pizza  Chicken   \n",
       "2   ckn_alfredo     The Chicken Alfredo Pizza  Chicken   \n",
       "3     ckn_pesto       The Chicken Pesto Pizza  Chicken   \n",
       "4    southw_ckn   The Southwest Chicken Pizza  Chicken   \n",
       "\n",
       "                                         ingredients  \n",
       "0  Barbecued Chicken, Red Peppers, Green Peppers,...  \n",
       "1  Chicken, Artichoke, Spinach, Garlic, Jalapeno ...  \n",
       "2  Chicken, Red Onions, Red Peppers, Mushrooms, A...  \n",
       "3  Chicken, Tomatoes, Red Peppers, Spinach, Garli...  \n",
       "4  Chicken, Tomatoes, Red Peppers, Red Onions, Ja...  "
      ]
     },
     "execution_count": 6,
     "metadata": {},
     "output_type": "execute_result"
    }
   ],
   "source": [
    "pizza_details.head()"
   ]
  },
  {
   "cell_type": "markdown",
   "id": "bd621028-f4fe-4fa0-93d9-bfb565492312",
   "metadata": {},
   "source": [
    "## Merging The Dataframes"
   ]
  },
  {
   "cell_type": "code",
   "execution_count": 7,
   "id": "eca5398a-23a7-49b3-bdc0-9c43247d14d7",
   "metadata": {},
   "outputs": [],
   "source": [
    "# merging order_details with orders\n",
    "merged1 = pd.merge(orders_details, orders, on='order_id')"
   ]
  },
  {
   "cell_type": "code",
   "execution_count": 8,
   "id": "ec1ce0a4-d597-4afb-8ee6-0403259a33a5",
   "metadata": {},
   "outputs": [],
   "source": [
    "# merging results with pizzas\n",
    "merged2 = pd.merge(merged1, pizzas, on='pizza_id')"
   ]
  },
  {
   "cell_type": "code",
   "execution_count": 9,
   "id": "c07e8236-606a-4c17-8e17-6aa694a02161",
   "metadata": {},
   "outputs": [],
   "source": [
    "# merging with pizzas_details\n",
    "final_merged = pd.merge(merged2, pizza_details, on='pizza_type_id')"
   ]
  },
  {
   "cell_type": "code",
   "execution_count": 10,
   "id": "9329b45f-dcbd-4ecd-9b12-e2f74923cfb2",
   "metadata": {},
   "outputs": [
    {
     "data": {
      "text/html": [
       "<div>\n",
       "<style scoped>\n",
       "    .dataframe tbody tr th:only-of-type {\n",
       "        vertical-align: middle;\n",
       "    }\n",
       "\n",
       "    .dataframe tbody tr th {\n",
       "        vertical-align: top;\n",
       "    }\n",
       "\n",
       "    .dataframe thead th {\n",
       "        text-align: right;\n",
       "    }\n",
       "</style>\n",
       "<table border=\"1\" class=\"dataframe\">\n",
       "  <thead>\n",
       "    <tr style=\"text-align: right;\">\n",
       "      <th></th>\n",
       "      <th>order_details_id</th>\n",
       "      <th>order_id</th>\n",
       "      <th>pizza_id</th>\n",
       "      <th>quantity</th>\n",
       "      <th>date</th>\n",
       "      <th>time</th>\n",
       "      <th>pizza_type_id</th>\n",
       "      <th>size</th>\n",
       "      <th>price</th>\n",
       "      <th>name</th>\n",
       "      <th>category</th>\n",
       "      <th>ingredients</th>\n",
       "    </tr>\n",
       "  </thead>\n",
       "  <tbody>\n",
       "    <tr>\n",
       "      <th>0</th>\n",
       "      <td>1</td>\n",
       "      <td>1</td>\n",
       "      <td>hawaiian_m</td>\n",
       "      <td>1</td>\n",
       "      <td>2015-01-01</td>\n",
       "      <td>11:38:36</td>\n",
       "      <td>hawaiian</td>\n",
       "      <td>M</td>\n",
       "      <td>13.25</td>\n",
       "      <td>The Hawaiian Pizza</td>\n",
       "      <td>Classic</td>\n",
       "      <td>Sliced Ham, Pineapple, Mozzarella Cheese</td>\n",
       "    </tr>\n",
       "    <tr>\n",
       "      <th>1</th>\n",
       "      <td>2</td>\n",
       "      <td>2</td>\n",
       "      <td>classic_dlx_m</td>\n",
       "      <td>1</td>\n",
       "      <td>2015-01-01</td>\n",
       "      <td>11:57:40</td>\n",
       "      <td>classic_dlx</td>\n",
       "      <td>M</td>\n",
       "      <td>16.00</td>\n",
       "      <td>The Classic Deluxe Pizza</td>\n",
       "      <td>Classic</td>\n",
       "      <td>Pepperoni, Mushrooms, Red Onions, Red Peppers,...</td>\n",
       "    </tr>\n",
       "    <tr>\n",
       "      <th>2</th>\n",
       "      <td>3</td>\n",
       "      <td>2</td>\n",
       "      <td>five_cheese_l</td>\n",
       "      <td>1</td>\n",
       "      <td>2015-01-01</td>\n",
       "      <td>11:57:40</td>\n",
       "      <td>five_cheese</td>\n",
       "      <td>L</td>\n",
       "      <td>18.50</td>\n",
       "      <td>The Five Cheese Pizza</td>\n",
       "      <td>Veggie</td>\n",
       "      <td>Mozzarella Cheese, Provolone Cheese, Smoked Go...</td>\n",
       "    </tr>\n",
       "    <tr>\n",
       "      <th>3</th>\n",
       "      <td>4</td>\n",
       "      <td>2</td>\n",
       "      <td>ital_supr_l</td>\n",
       "      <td>1</td>\n",
       "      <td>2015-01-01</td>\n",
       "      <td>11:57:40</td>\n",
       "      <td>ital_supr</td>\n",
       "      <td>L</td>\n",
       "      <td>20.75</td>\n",
       "      <td>The Italian Supreme Pizza</td>\n",
       "      <td>Supreme</td>\n",
       "      <td>Calabrese Salami, Capocollo, Tomatoes, Red Oni...</td>\n",
       "    </tr>\n",
       "    <tr>\n",
       "      <th>4</th>\n",
       "      <td>5</td>\n",
       "      <td>2</td>\n",
       "      <td>mexicana_m</td>\n",
       "      <td>1</td>\n",
       "      <td>2015-01-01</td>\n",
       "      <td>11:57:40</td>\n",
       "      <td>mexicana</td>\n",
       "      <td>M</td>\n",
       "      <td>16.00</td>\n",
       "      <td>The Mexicana Pizza</td>\n",
       "      <td>Veggie</td>\n",
       "      <td>Tomatoes, Red Peppers, Jalapeno Peppers, Red O...</td>\n",
       "    </tr>\n",
       "  </tbody>\n",
       "</table>\n",
       "</div>"
      ],
      "text/plain": [
       "   order_details_id  order_id       pizza_id  quantity        date      time  \\\n",
       "0                 1         1     hawaiian_m         1  2015-01-01  11:38:36   \n",
       "1                 2         2  classic_dlx_m         1  2015-01-01  11:57:40   \n",
       "2                 3         2  five_cheese_l         1  2015-01-01  11:57:40   \n",
       "3                 4         2    ital_supr_l         1  2015-01-01  11:57:40   \n",
       "4                 5         2     mexicana_m         1  2015-01-01  11:57:40   \n",
       "\n",
       "  pizza_type_id size  price                       name category  \\\n",
       "0      hawaiian    M  13.25         The Hawaiian Pizza  Classic   \n",
       "1   classic_dlx    M  16.00   The Classic Deluxe Pizza  Classic   \n",
       "2   five_cheese    L  18.50      The Five Cheese Pizza   Veggie   \n",
       "3     ital_supr    L  20.75  The Italian Supreme Pizza  Supreme   \n",
       "4      mexicana    M  16.00         The Mexicana Pizza   Veggie   \n",
       "\n",
       "                                         ingredients  \n",
       "0           Sliced Ham, Pineapple, Mozzarella Cheese  \n",
       "1  Pepperoni, Mushrooms, Red Onions, Red Peppers,...  \n",
       "2  Mozzarella Cheese, Provolone Cheese, Smoked Go...  \n",
       "3  Calabrese Salami, Capocollo, Tomatoes, Red Oni...  \n",
       "4  Tomatoes, Red Peppers, Jalapeno Peppers, Red O...  "
      ]
     },
     "execution_count": 10,
     "metadata": {},
     "output_type": "execute_result"
    }
   ],
   "source": [
    "final_merged.head()"
   ]
  },
  {
   "cell_type": "markdown",
   "id": "dd9ff505-5625-4716-b3e4-c21b1d12d88d",
   "metadata": {},
   "source": [
    "## Adding a New Column Revenue"
   ]
  },
  {
   "cell_type": "code",
   "execution_count": 11,
   "id": "c6525082-0d9d-4eb9-9bd6-082c55cb8cb0",
   "metadata": {},
   "outputs": [],
   "source": [
    "# to calculate revenue we have to multiply quantity and price.\n",
    "final_merged['revenue'] = final_merged['quantity'] * final_merged['price']"
   ]
  },
  {
   "cell_type": "markdown",
   "id": "84424227-2a28-4f50-8287-e8de80678dfe",
   "metadata": {},
   "source": [
    "## What Is The Total Revenue\n"
   ]
  },
  {
   "cell_type": "code",
   "execution_count": 12,
   "id": "c49d63c5-4964-4789-8e6f-5a495164de4c",
   "metadata": {},
   "outputs": [
    {
     "name": "stdout",
     "output_type": "stream",
     "text": [
      "total revenue: $817,860.05\n"
     ]
    }
   ],
   "source": [
    "total_revenue = final_merged['revenue'].sum()\n",
    "print(f\"total revenue: ${total_revenue:,.2f}\")"
   ]
  },
  {
   "cell_type": "code",
   "execution_count": 13,
   "id": "ec6e331c-2b4e-4adb-9cb5-7cb03b34678e",
   "metadata": {},
   "outputs": [
    {
     "data": {
      "text/html": [
       "<div>\n",
       "<style scoped>\n",
       "    .dataframe tbody tr th:only-of-type {\n",
       "        vertical-align: middle;\n",
       "    }\n",
       "\n",
       "    .dataframe tbody tr th {\n",
       "        vertical-align: top;\n",
       "    }\n",
       "\n",
       "    .dataframe thead th {\n",
       "        text-align: right;\n",
       "    }\n",
       "</style>\n",
       "<table border=\"1\" class=\"dataframe\">\n",
       "  <thead>\n",
       "    <tr style=\"text-align: right;\">\n",
       "      <th></th>\n",
       "      <th>order_details_id</th>\n",
       "      <th>order_id</th>\n",
       "      <th>pizza_id</th>\n",
       "      <th>quantity</th>\n",
       "      <th>date</th>\n",
       "      <th>time</th>\n",
       "      <th>pizza_type_id</th>\n",
       "      <th>size</th>\n",
       "      <th>price</th>\n",
       "      <th>name</th>\n",
       "      <th>category</th>\n",
       "      <th>ingredients</th>\n",
       "      <th>revenue</th>\n",
       "    </tr>\n",
       "  </thead>\n",
       "  <tbody>\n",
       "    <tr>\n",
       "      <th>0</th>\n",
       "      <td>1</td>\n",
       "      <td>1</td>\n",
       "      <td>hawaiian_m</td>\n",
       "      <td>1</td>\n",
       "      <td>2015-01-01</td>\n",
       "      <td>11:38:36</td>\n",
       "      <td>hawaiian</td>\n",
       "      <td>M</td>\n",
       "      <td>13.25</td>\n",
       "      <td>The Hawaiian Pizza</td>\n",
       "      <td>Classic</td>\n",
       "      <td>Sliced Ham, Pineapple, Mozzarella Cheese</td>\n",
       "      <td>13.25</td>\n",
       "    </tr>\n",
       "    <tr>\n",
       "      <th>1</th>\n",
       "      <td>2</td>\n",
       "      <td>2</td>\n",
       "      <td>classic_dlx_m</td>\n",
       "      <td>1</td>\n",
       "      <td>2015-01-01</td>\n",
       "      <td>11:57:40</td>\n",
       "      <td>classic_dlx</td>\n",
       "      <td>M</td>\n",
       "      <td>16.00</td>\n",
       "      <td>The Classic Deluxe Pizza</td>\n",
       "      <td>Classic</td>\n",
       "      <td>Pepperoni, Mushrooms, Red Onions, Red Peppers,...</td>\n",
       "      <td>16.00</td>\n",
       "    </tr>\n",
       "    <tr>\n",
       "      <th>2</th>\n",
       "      <td>3</td>\n",
       "      <td>2</td>\n",
       "      <td>five_cheese_l</td>\n",
       "      <td>1</td>\n",
       "      <td>2015-01-01</td>\n",
       "      <td>11:57:40</td>\n",
       "      <td>five_cheese</td>\n",
       "      <td>L</td>\n",
       "      <td>18.50</td>\n",
       "      <td>The Five Cheese Pizza</td>\n",
       "      <td>Veggie</td>\n",
       "      <td>Mozzarella Cheese, Provolone Cheese, Smoked Go...</td>\n",
       "      <td>18.50</td>\n",
       "    </tr>\n",
       "    <tr>\n",
       "      <th>3</th>\n",
       "      <td>4</td>\n",
       "      <td>2</td>\n",
       "      <td>ital_supr_l</td>\n",
       "      <td>1</td>\n",
       "      <td>2015-01-01</td>\n",
       "      <td>11:57:40</td>\n",
       "      <td>ital_supr</td>\n",
       "      <td>L</td>\n",
       "      <td>20.75</td>\n",
       "      <td>The Italian Supreme Pizza</td>\n",
       "      <td>Supreme</td>\n",
       "      <td>Calabrese Salami, Capocollo, Tomatoes, Red Oni...</td>\n",
       "      <td>20.75</td>\n",
       "    </tr>\n",
       "    <tr>\n",
       "      <th>4</th>\n",
       "      <td>5</td>\n",
       "      <td>2</td>\n",
       "      <td>mexicana_m</td>\n",
       "      <td>1</td>\n",
       "      <td>2015-01-01</td>\n",
       "      <td>11:57:40</td>\n",
       "      <td>mexicana</td>\n",
       "      <td>M</td>\n",
       "      <td>16.00</td>\n",
       "      <td>The Mexicana Pizza</td>\n",
       "      <td>Veggie</td>\n",
       "      <td>Tomatoes, Red Peppers, Jalapeno Peppers, Red O...</td>\n",
       "      <td>16.00</td>\n",
       "    </tr>\n",
       "  </tbody>\n",
       "</table>\n",
       "</div>"
      ],
      "text/plain": [
       "   order_details_id  order_id       pizza_id  quantity        date      time  \\\n",
       "0                 1         1     hawaiian_m         1  2015-01-01  11:38:36   \n",
       "1                 2         2  classic_dlx_m         1  2015-01-01  11:57:40   \n",
       "2                 3         2  five_cheese_l         1  2015-01-01  11:57:40   \n",
       "3                 4         2    ital_supr_l         1  2015-01-01  11:57:40   \n",
       "4                 5         2     mexicana_m         1  2015-01-01  11:57:40   \n",
       "\n",
       "  pizza_type_id size  price                       name category  \\\n",
       "0      hawaiian    M  13.25         The Hawaiian Pizza  Classic   \n",
       "1   classic_dlx    M  16.00   The Classic Deluxe Pizza  Classic   \n",
       "2   five_cheese    L  18.50      The Five Cheese Pizza   Veggie   \n",
       "3     ital_supr    L  20.75  The Italian Supreme Pizza  Supreme   \n",
       "4      mexicana    M  16.00         The Mexicana Pizza   Veggie   \n",
       "\n",
       "                                         ingredients  revenue  \n",
       "0           Sliced Ham, Pineapple, Mozzarella Cheese    13.25  \n",
       "1  Pepperoni, Mushrooms, Red Onions, Red Peppers,...    16.00  \n",
       "2  Mozzarella Cheese, Provolone Cheese, Smoked Go...    18.50  \n",
       "3  Calabrese Salami, Capocollo, Tomatoes, Red Oni...    20.75  \n",
       "4  Tomatoes, Red Peppers, Jalapeno Peppers, Red O...    16.00  "
      ]
     },
     "execution_count": 13,
     "metadata": {},
     "output_type": "execute_result"
    }
   ],
   "source": [
    "final_merged.head()"
   ]
  },
  {
   "cell_type": "markdown",
   "id": "0b071ad6-571d-43e6-9503-079a9ca6102b",
   "metadata": {},
   "source": [
    "## Saving my Final_Merged to CSV"
   ]
  },
  {
   "cell_type": "code",
   "execution_count": 14,
   "id": "67dd63b6-a767-4a2f-9ee1-90fd680e2ce2",
   "metadata": {},
   "outputs": [],
   "source": [
    "#doing this so i dont have to remerge everytime\n",
    "\n",
    "final_merged.to_csv(\"merged_pizza_data.csv\", index=False)"
   ]
  },
  {
   "cell_type": "markdown",
   "id": "b74709bb-1330-4437-94b0-99e21473eee3",
   "metadata": {},
   "source": [
    "## Finding The Total Quantity Sold"
   ]
  },
  {
   "cell_type": "code",
   "execution_count": 15,
   "id": "f1944e14-ceed-4f1e-ae7f-9718ea094c51",
   "metadata": {},
   "outputs": [
    {
     "name": "stdout",
     "output_type": "stream",
     "text": [
      "Total Pizzas Sold: 49574\n"
     ]
    }
   ],
   "source": [
    "total_pizzas_sold = final_merged['quantity'].sum()\n",
    "print(f\"Total Pizzas Sold: {total_pizzas_sold}\")"
   ]
  },
  {
   "cell_type": "markdown",
   "id": "baed3741-8d2d-49bd-b6a3-334d8b12cf01",
   "metadata": {},
   "source": [
    "## Total Orders Taken"
   ]
  },
  {
   "cell_type": "code",
   "execution_count": 16,
   "id": "23c23619-8fe0-47c8-b920-d51c8c736ec4",
   "metadata": {},
   "outputs": [
    {
     "name": "stdout",
     "output_type": "stream",
     "text": [
      "Total Orders Taken: 520305946\n"
     ]
    }
   ],
   "source": [
    "total_orders = final_merged['order_id'].sum()\n",
    "print(f\"Total Orders Taken: {total_orders}\")"
   ]
  },
  {
   "cell_type": "markdown",
   "id": "c12e9481-e566-482b-8364-c2ba572e1d8b",
   "metadata": {},
   "source": [
    "## How Many Pizzas Types Do They Sell"
   ]
  },
  {
   "cell_type": "code",
   "execution_count": 17,
   "id": "a6148744-da75-462c-8adb-38568b9145e2",
   "metadata": {},
   "outputs": [
    {
     "name": "stdout",
     "output_type": "stream",
     "text": [
      "the business sells 32\n"
     ]
    }
   ],
   "source": [
    "unique_pizza_types = final_merged['name'].nunique()\n",
    "print(f\"the business sells {unique_pizza_types}\")"
   ]
  },
  {
   "cell_type": "markdown",
   "id": "31bee1e0-7b89-46e4-921c-5451dc581c59",
   "metadata": {},
   "source": [
    "## Average Price of Pizza"
   ]
  },
  {
   "cell_type": "code",
   "execution_count": 18,
   "id": "cfe85ea0-0a2e-4bcd-9759-042415048560",
   "metadata": {},
   "outputs": [
    {
     "name": "stdout",
     "output_type": "stream",
     "text": [
      "average_price: $16.49\n"
     ]
    }
   ],
   "source": [
    "average_price = final_merged['price'].mean()\n",
    "print(f\"average_price: ${average_price:,.2f}\")"
   ]
  },
  {
   "cell_type": "markdown",
   "id": "c6d4741d-1f2a-4db7-8fb5-96767fe8bf69",
   "metadata": {},
   "source": [
    "## What Are The Peak Hours of Sales"
   ]
  },
  {
   "cell_type": "code",
   "execution_count": 19,
   "id": "7600fc11-1971-45e3-aa75-be42b9fde50c",
   "metadata": {},
   "outputs": [
    {
     "data": {
      "text/html": [
       "<div>\n",
       "<style scoped>\n",
       "    .dataframe tbody tr th:only-of-type {\n",
       "        vertical-align: middle;\n",
       "    }\n",
       "\n",
       "    .dataframe tbody tr th {\n",
       "        vertical-align: top;\n",
       "    }\n",
       "\n",
       "    .dataframe thead th {\n",
       "        text-align: right;\n",
       "    }\n",
       "</style>\n",
       "<table border=\"1\" class=\"dataframe\">\n",
       "  <thead>\n",
       "    <tr style=\"text-align: right;\">\n",
       "      <th></th>\n",
       "      <th>order_details_id</th>\n",
       "      <th>order_id</th>\n",
       "      <th>pizza_id</th>\n",
       "      <th>quantity</th>\n",
       "      <th>date</th>\n",
       "      <th>time</th>\n",
       "      <th>pizza_type_id</th>\n",
       "      <th>size</th>\n",
       "      <th>price</th>\n",
       "      <th>name</th>\n",
       "      <th>category</th>\n",
       "      <th>ingredients</th>\n",
       "      <th>revenue</th>\n",
       "    </tr>\n",
       "  </thead>\n",
       "  <tbody>\n",
       "    <tr>\n",
       "      <th>0</th>\n",
       "      <td>1</td>\n",
       "      <td>1</td>\n",
       "      <td>hawaiian_m</td>\n",
       "      <td>1</td>\n",
       "      <td>2015-01-01</td>\n",
       "      <td>11:38:36</td>\n",
       "      <td>hawaiian</td>\n",
       "      <td>M</td>\n",
       "      <td>13.25</td>\n",
       "      <td>The Hawaiian Pizza</td>\n",
       "      <td>Classic</td>\n",
       "      <td>Sliced Ham, Pineapple, Mozzarella Cheese</td>\n",
       "      <td>13.25</td>\n",
       "    </tr>\n",
       "    <tr>\n",
       "      <th>1</th>\n",
       "      <td>2</td>\n",
       "      <td>2</td>\n",
       "      <td>classic_dlx_m</td>\n",
       "      <td>1</td>\n",
       "      <td>2015-01-01</td>\n",
       "      <td>11:57:40</td>\n",
       "      <td>classic_dlx</td>\n",
       "      <td>M</td>\n",
       "      <td>16.00</td>\n",
       "      <td>The Classic Deluxe Pizza</td>\n",
       "      <td>Classic</td>\n",
       "      <td>Pepperoni, Mushrooms, Red Onions, Red Peppers,...</td>\n",
       "      <td>16.00</td>\n",
       "    </tr>\n",
       "    <tr>\n",
       "      <th>2</th>\n",
       "      <td>3</td>\n",
       "      <td>2</td>\n",
       "      <td>five_cheese_l</td>\n",
       "      <td>1</td>\n",
       "      <td>2015-01-01</td>\n",
       "      <td>11:57:40</td>\n",
       "      <td>five_cheese</td>\n",
       "      <td>L</td>\n",
       "      <td>18.50</td>\n",
       "      <td>The Five Cheese Pizza</td>\n",
       "      <td>Veggie</td>\n",
       "      <td>Mozzarella Cheese, Provolone Cheese, Smoked Go...</td>\n",
       "      <td>18.50</td>\n",
       "    </tr>\n",
       "    <tr>\n",
       "      <th>3</th>\n",
       "      <td>4</td>\n",
       "      <td>2</td>\n",
       "      <td>ital_supr_l</td>\n",
       "      <td>1</td>\n",
       "      <td>2015-01-01</td>\n",
       "      <td>11:57:40</td>\n",
       "      <td>ital_supr</td>\n",
       "      <td>L</td>\n",
       "      <td>20.75</td>\n",
       "      <td>The Italian Supreme Pizza</td>\n",
       "      <td>Supreme</td>\n",
       "      <td>Calabrese Salami, Capocollo, Tomatoes, Red Oni...</td>\n",
       "      <td>20.75</td>\n",
       "    </tr>\n",
       "    <tr>\n",
       "      <th>4</th>\n",
       "      <td>5</td>\n",
       "      <td>2</td>\n",
       "      <td>mexicana_m</td>\n",
       "      <td>1</td>\n",
       "      <td>2015-01-01</td>\n",
       "      <td>11:57:40</td>\n",
       "      <td>mexicana</td>\n",
       "      <td>M</td>\n",
       "      <td>16.00</td>\n",
       "      <td>The Mexicana Pizza</td>\n",
       "      <td>Veggie</td>\n",
       "      <td>Tomatoes, Red Peppers, Jalapeno Peppers, Red O...</td>\n",
       "      <td>16.00</td>\n",
       "    </tr>\n",
       "  </tbody>\n",
       "</table>\n",
       "</div>"
      ],
      "text/plain": [
       "   order_details_id  order_id       pizza_id  quantity        date      time  \\\n",
       "0                 1         1     hawaiian_m         1  2015-01-01  11:38:36   \n",
       "1                 2         2  classic_dlx_m         1  2015-01-01  11:57:40   \n",
       "2                 3         2  five_cheese_l         1  2015-01-01  11:57:40   \n",
       "3                 4         2    ital_supr_l         1  2015-01-01  11:57:40   \n",
       "4                 5         2     mexicana_m         1  2015-01-01  11:57:40   \n",
       "\n",
       "  pizza_type_id size  price                       name category  \\\n",
       "0      hawaiian    M  13.25         The Hawaiian Pizza  Classic   \n",
       "1   classic_dlx    M  16.00   The Classic Deluxe Pizza  Classic   \n",
       "2   five_cheese    L  18.50      The Five Cheese Pizza   Veggie   \n",
       "3     ital_supr    L  20.75  The Italian Supreme Pizza  Supreme   \n",
       "4      mexicana    M  16.00         The Mexicana Pizza   Veggie   \n",
       "\n",
       "                                         ingredients  revenue  \n",
       "0           Sliced Ham, Pineapple, Mozzarella Cheese    13.25  \n",
       "1  Pepperoni, Mushrooms, Red Onions, Red Peppers,...    16.00  \n",
       "2  Mozzarella Cheese, Provolone Cheese, Smoked Go...    18.50  \n",
       "3  Calabrese Salami, Capocollo, Tomatoes, Red Oni...    20.75  \n",
       "4  Tomatoes, Red Peppers, Jalapeno Peppers, Red O...    16.00  "
      ]
     },
     "execution_count": 19,
     "metadata": {},
     "output_type": "execute_result"
    }
   ],
   "source": [
    "# firstly we check our dataset to see what format our time column has\n",
    "final_merged.head()"
   ]
  },
  {
   "cell_type": "code",
   "execution_count": 21,
   "id": "c2aa85f5-bc97-44a3-a32e-cc4d6d532c0b",
   "metadata": {},
   "outputs": [
    {
     "data": {
      "image/png": "[encoded data removed]",
      "text/plain": [
       "<Figure size 800x500 with 1 Axes>"
      ]
     },
     "metadata": {},
     "output_type": "display_data"
    }
   ],
   "source": [
    "# Group by hour and count unique order IDs\n",
    "hourly_sales = final_merged.groupby('time')['order_id'].nunique().sort_values(ascending=False)\n",
    "# Plot\n",
    "plt.figure(figsize=(8, 5))\n",
    "hourly_sales.plot(kind='line', color='teal')\n",
    "plt.title('Peak Hours of Sales')\n",
    "plt.xlabel('time of the Day')\n",
    "plt.ylabel('Number of Orders')\n",
    "plt.xticks(rotation=0)\n",
    "plt.tight_layout()\n",
    "plt.show()"
   ]
  },
  {
   "cell_type": "markdown",
   "id": "546a333a-1a69-49d9-8bff-5ed5cc8d94f8",
   "metadata": {},
   "source": [
    "## Insights Noticed From the Graph"
   ]
  },
  {
   "cell_type": "markdown",
   "id": "f892aa67-6d47-4f22-a366-b7b2060a2062",
   "metadata": {},
   "source": [
    "- The peak hours are typically around 12 PM to 2 PM and 6 PM to 8 PM, indicating that lunch and dinner times drive the most sales.\r",
    "- \tThis aligns with typical eating habits, suggesting that targeted promotions or quicker service during these hours could further boost sales"
   ]
  },
  {
   "cell_type": "code",
   "execution_count": 24,
   "id": "8933ee4a-37bc-47d8-b74a-c02d665bc445",
   "metadata": {},
   "outputs": [
    {
     "name": "stdout",
     "output_type": "stream",
     "text": [
      "time\n",
      "18:49:37    6\n",
      "18:49:15    5\n",
      "16:09:26    5\n",
      "13:18:06    5\n",
      "18:15:08    5\n",
      "           ..\n",
      "15:26:27    1\n",
      "15:26:30    1\n",
      "15:26:40    1\n",
      "15:26:45    1\n",
      "23:05:52    1\n",
      "Name: order_id, Length: 16382, dtype: int64\n"
     ]
    }
   ],
   "source": [
    "#after checking we can see our datetime is in the right format\n",
    "hourly_orders = final_merged.groupby('time')['order_id'].nunique().sort_values(ascending=False)\n",
    "print(hourly_orders)"
   ]
  },
  {
   "cell_type": "markdown",
   "id": "37984238-26e2-4e4c-9447-81a5566e7424",
   "metadata": {},
   "source": [
    "## Total Sales Made on Each Day of The Week "
   ]
  },
  {
   "cell_type": "code",
   "execution_count": 25,
   "id": "460650c0-3a79-4e89-be03-1a4ac90da525",
   "metadata": {},
   "outputs": [],
   "source": [
    "#firstly convert the date column to have the right format.\n",
    "# this code allows panda treat the date column as a datetime .\n",
    "final_merged['date'] = pd.to_datetime(final_merged['date'], errors='coerce')"
   ]
  },
  {
   "cell_type": "code",
   "execution_count": 26,
   "id": "fdf217dc-ecd2-4f5e-9146-5d5c454a42ab",
   "metadata": {},
   "outputs": [
    {
     "name": "stdout",
     "output_type": "stream",
     "text": [
      "        date day_of_week\n",
      "0 2015-01-01    Thursday\n",
      "1 2015-01-01    Thursday\n",
      "2 2015-01-01    Thursday\n",
      "3 2015-01-01    Thursday\n",
      "4 2015-01-01    Thursday\n"
     ]
    }
   ],
   "source": [
    "# secondly we extract the day of the week and create a new column for weeks \n",
    "\n",
    "final_merged['day_of_week'] = final_merged['date'].dt.day_name()\n",
    "\n",
    "print(final_merged[['date', 'day_of_week']].head())"
   ]
  },
  {
   "cell_type": "code",
   "execution_count": 27,
   "id": "da2eb630-d618-4973-944a-b87665f36819",
   "metadata": {},
   "outputs": [
    {
     "data": {
      "text/html": [
       "<div>\n",
       "<style scoped>\n",
       "    .dataframe tbody tr th:only-of-type {\n",
       "        vertical-align: middle;\n",
       "    }\n",
       "\n",
       "    .dataframe tbody tr th {\n",
       "        vertical-align: top;\n",
       "    }\n",
       "\n",
       "    .dataframe thead th {\n",
       "        text-align: right;\n",
       "    }\n",
       "</style>\n",
       "<table border=\"1\" class=\"dataframe\">\n",
       "  <thead>\n",
       "    <tr style=\"text-align: right;\">\n",
       "      <th></th>\n",
       "      <th>order_details_id</th>\n",
       "      <th>order_id</th>\n",
       "      <th>pizza_id</th>\n",
       "      <th>quantity</th>\n",
       "      <th>date</th>\n",
       "      <th>time</th>\n",
       "      <th>pizza_type_id</th>\n",
       "      <th>size</th>\n",
       "      <th>price</th>\n",
       "      <th>name</th>\n",
       "      <th>category</th>\n",
       "      <th>ingredients</th>\n",
       "      <th>revenue</th>\n",
       "      <th>day_of_week</th>\n",
       "    </tr>\n",
       "  </thead>\n",
       "  <tbody>\n",
       "    <tr>\n",
       "      <th>0</th>\n",
       "      <td>1</td>\n",
       "      <td>1</td>\n",
       "      <td>hawaiian_m</td>\n",
       "      <td>1</td>\n",
       "      <td>2015-01-01</td>\n",
       "      <td>11:38:36</td>\n",
       "      <td>hawaiian</td>\n",
       "      <td>M</td>\n",
       "      <td>13.25</td>\n",
       "      <td>The Hawaiian Pizza</td>\n",
       "      <td>Classic</td>\n",
       "      <td>Sliced Ham, Pineapple, Mozzarella Cheese</td>\n",
       "      <td>13.25</td>\n",
       "      <td>Thursday</td>\n",
       "    </tr>\n",
       "    <tr>\n",
       "      <th>1</th>\n",
       "      <td>2</td>\n",
       "      <td>2</td>\n",
       "      <td>classic_dlx_m</td>\n",
       "      <td>1</td>\n",
       "      <td>2015-01-01</td>\n",
       "      <td>11:57:40</td>\n",
       "      <td>classic_dlx</td>\n",
       "      <td>M</td>\n",
       "      <td>16.00</td>\n",
       "      <td>The Classic Deluxe Pizza</td>\n",
       "      <td>Classic</td>\n",
       "      <td>Pepperoni, Mushrooms, Red Onions, Red Peppers,...</td>\n",
       "      <td>16.00</td>\n",
       "      <td>Thursday</td>\n",
       "    </tr>\n",
       "    <tr>\n",
       "      <th>2</th>\n",
       "      <td>3</td>\n",
       "      <td>2</td>\n",
       "      <td>five_cheese_l</td>\n",
       "      <td>1</td>\n",
       "      <td>2015-01-01</td>\n",
       "      <td>11:57:40</td>\n",
       "      <td>five_cheese</td>\n",
       "      <td>L</td>\n",
       "      <td>18.50</td>\n",
       "      <td>The Five Cheese Pizza</td>\n",
       "      <td>Veggie</td>\n",
       "      <td>Mozzarella Cheese, Provolone Cheese, Smoked Go...</td>\n",
       "      <td>18.50</td>\n",
       "      <td>Thursday</td>\n",
       "    </tr>\n",
       "    <tr>\n",
       "      <th>3</th>\n",
       "      <td>4</td>\n",
       "      <td>2</td>\n",
       "      <td>ital_supr_l</td>\n",
       "      <td>1</td>\n",
       "      <td>2015-01-01</td>\n",
       "      <td>11:57:40</td>\n",
       "      <td>ital_supr</td>\n",
       "      <td>L</td>\n",
       "      <td>20.75</td>\n",
       "      <td>The Italian Supreme Pizza</td>\n",
       "      <td>Supreme</td>\n",
       "      <td>Calabrese Salami, Capocollo, Tomatoes, Red Oni...</td>\n",
       "      <td>20.75</td>\n",
       "      <td>Thursday</td>\n",
       "    </tr>\n",
       "    <tr>\n",
       "      <th>4</th>\n",
       "      <td>5</td>\n",
       "      <td>2</td>\n",
       "      <td>mexicana_m</td>\n",
       "      <td>1</td>\n",
       "      <td>2015-01-01</td>\n",
       "      <td>11:57:40</td>\n",
       "      <td>mexicana</td>\n",
       "      <td>M</td>\n",
       "      <td>16.00</td>\n",
       "      <td>The Mexicana Pizza</td>\n",
       "      <td>Veggie</td>\n",
       "      <td>Tomatoes, Red Peppers, Jalapeno Peppers, Red O...</td>\n",
       "      <td>16.00</td>\n",
       "      <td>Thursday</td>\n",
       "    </tr>\n",
       "  </tbody>\n",
       "</table>\n",
       "</div>"
      ],
      "text/plain": [
       "   order_details_id  order_id       pizza_id  quantity       date      time  \\\n",
       "0                 1         1     hawaiian_m         1 2015-01-01  11:38:36   \n",
       "1                 2         2  classic_dlx_m         1 2015-01-01  11:57:40   \n",
       "2                 3         2  five_cheese_l         1 2015-01-01  11:57:40   \n",
       "3                 4         2    ital_supr_l         1 2015-01-01  11:57:40   \n",
       "4                 5         2     mexicana_m         1 2015-01-01  11:57:40   \n",
       "\n",
       "  pizza_type_id size  price                       name category  \\\n",
       "0      hawaiian    M  13.25         The Hawaiian Pizza  Classic   \n",
       "1   classic_dlx    M  16.00   The Classic Deluxe Pizza  Classic   \n",
       "2   five_cheese    L  18.50      The Five Cheese Pizza   Veggie   \n",
       "3     ital_supr    L  20.75  The Italian Supreme Pizza  Supreme   \n",
       "4      mexicana    M  16.00         The Mexicana Pizza   Veggie   \n",
       "\n",
       "                                         ingredients  revenue day_of_week  \n",
       "0           Sliced Ham, Pineapple, Mozzarella Cheese    13.25    Thursday  \n",
       "1  Pepperoni, Mushrooms, Red Onions, Red Peppers,...    16.00    Thursday  \n",
       "2  Mozzarella Cheese, Provolone Cheese, Smoked Go...    18.50    Thursday  \n",
       "3  Calabrese Salami, Capocollo, Tomatoes, Red Oni...    20.75    Thursday  \n",
       "4  Tomatoes, Red Peppers, Jalapeno Peppers, Red O...    16.00    Thursday  "
      ]
     },
     "execution_count": 27,
     "metadata": {},
     "output_type": "execute_result"
    }
   ],
   "source": [
    "final_merged.head()"
   ]
  },
  {
   "cell_type": "code",
   "execution_count": 28,
   "id": "e65c40f3-15e7-4b72-bb56-454b95f9df0b",
   "metadata": {},
   "outputs": [],
   "source": [
    "# thirdly we group by day and sum by revenue or quantity\n",
    "\n",
    "sales_by_day = final_merged.groupby('day_of_week')['revenue'].sum().sort_values(ascending=False)"
   ]
  },
  {
   "cell_type": "code",
   "execution_count": 29,
   "id": "c9b63d47-436f-4480-bfb0-229848ed3996",
   "metadata": {},
   "outputs": [
    {
     "name": "stdout",
     "output_type": "stream",
     "text": [
      "the best sales day is Friday with $136,073.90 in revenue.\n"
     ]
    }
   ],
   "source": [
    "# then we find the best performing day\n",
    "\n",
    "best_day = sales_by_day.idxmax()\n",
    "best_day_sales = sales_by_day.max()\n",
    "\n",
    "print(f\"the best sales day is {best_day} with ${best_day_sales:,.2f} in revenue.\")"
   ]
  },
  {
   "cell_type": "code",
   "execution_count": 30,
   "id": "30fd31ff-be02-459f-9008-fdad6154a748",
   "metadata": {},
   "outputs": [
    {
     "data": {
      "image/png": "[encoded data removed]",
      "text/plain": [
       "<Figure size 800x500 with 1 Axes>"
      ]
     },
     "metadata": {},
     "output_type": "display_data"
    }
   ],
   "source": [
    "# Group by day of the week\n",
    "sales_by_day = final_merged.groupby('day_of_week')['revenue'].sum()\n",
    "\n",
    "# Reorder to be in calendar order\n",
    "sales_by_day = sales_by_day.reindex(['Monday', 'Tuesday', 'Wednesday', 'Thursday', 'Friday', 'Saturday', 'Sunday'])\n",
    "\n",
    "# Plot\n",
    "plt.figure(figsize=(8, 5))\n",
    "sales_by_day.plot(kind='bar', color='orange')\n",
    "plt.title('Sales by Day of the Week')\n",
    "plt.xlabel('Day of the Week')\n",
    "plt.ylabel('Total Revenue ($)')\n",
    "plt.xticks(rotation=45)\n",
    "plt.tight_layout()\n",
    "plt.show()"
   ]
  },
  {
   "cell_type": "markdown",
   "id": "89ba9293-77a8-488d-90d2-4d18d6610675",
   "metadata": {},
   "source": [
    "## Insights Noticed From the Graph Above"
   ]
  },
  {
   "cell_type": "markdown",
   "id": "7d8d200f-c50b-452e-bd82-bbcdea9182a8",
   "metadata": {},
   "source": [
    "- Sales are significantly higher on Fridays and Saturdays, reflecting the weekend rush.\n",
    "- Lower sales are noticeable on Tuesdays and Wednesdays, hinting at slower business days."
   ]
  },
  {
   "cell_type": "markdown",
   "id": "e954661b-3a2a-4869-9362-7777714ac7bd",
   "metadata": {},
   "source": [
    "## Top 5 Best Selling Pizzas"
   ]
  },
  {
   "cell_type": "code",
   "execution_count": 31,
   "id": "9ded75e0-3473-4272-8b03-858a0c04bb50",
   "metadata": {},
   "outputs": [
    {
     "name": "stdout",
     "output_type": "stream",
     "text": [
      "the top 5 bestselling pizzas is:\n",
      "\n",
      "name\n",
      "The Classic Deluxe Pizza      2453\n",
      "The Barbecue Chicken Pizza    2432\n",
      "The Hawaiian Pizza            2422\n",
      "The Pepperoni Pizza           2418\n",
      "The Thai Chicken Pizza        2371\n",
      "Name: quantity, dtype: int64\n"
     ]
    }
   ],
   "source": [
    "# we find the best selling pizzas\n",
    "\n",
    "top_5_pizzas = final_merged.groupby('name')['quantity'].sum().sort_values(ascending=False).head(5)\n",
    "print(f\"the top 5 bestselling pizzas is:\\n\")\n",
    "print(top_5_pizzas)\n"
   ]
  },
  {
   "cell_type": "code",
   "execution_count": 32,
   "id": "2cf67f7e-f412-4fba-bc6f-67c4b9fe11f2",
   "metadata": {},
   "outputs": [
    {
     "data": {
      "image/png": "[encoded data removed]",
      "text/plain": [
       "<Figure size 800x500 with 1 Axes>"
      ]
     },
     "metadata": {},
     "output_type": "display_data"
    }
   ],
   "source": [
    "# Group by pizza type and sum quantity\n",
    "top_5_pizzas = final_merged.groupby('name')['quantity'].sum().sort_values(ascending=False).head(5)\n",
    "\n",
    "# Plot\n",
    "plt.figure(figsize=(8, 5))\n",
    "top_5_pizzas.plot(kind='barh', color='green')\n",
    "plt.title('Top 5 Bestselling Pizzas')\n",
    "plt.xlabel('Pizza Name')\n",
    "plt.ylabel('Quantity Sold')\n",
    "plt.xticks(rotation=45)\n",
    "plt.tight_layout()\n",
    "plt.show()"
   ]
  },
  {
   "cell_type": "markdown",
   "id": "30b775d1-fe93-4356-8c80-8a2ed17fffe6",
   "metadata": {},
   "source": [
    "## Insights noticed from the graph above"
   ]
  },
  {
   "cell_type": "markdown",
   "id": "e8bd3f7a-63e5-4d72-a8be-ba7ba87e745a",
   "metadata": {},
   "source": [
    "- Certain pizza types consistently perform well, capturing the largest share of sales.\n",
    "- \tThe difference between the top 2 and the others is noticeable, suggesting strong customer preference."
   ]
  },
  {
   "cell_type": "markdown",
   "id": "19999754-b115-4309-9893-dbcd7e43450b",
   "metadata": {},
   "source": [
    "## Finding Sales in Each Month, and Any Noticeable Trend"
   ]
  },
  {
   "cell_type": "code",
   "execution_count": 33,
   "id": "6a0c37bf-b29e-4bb7-ae79-850b408dc1b8",
   "metadata": {},
   "outputs": [],
   "source": [
    "# we create a new column called month\n",
    "\n",
    "final_merged['month'] = final_merged['date'].dt.month_name()"
   ]
  },
  {
   "cell_type": "code",
   "execution_count": 34,
   "id": "d6013d6f-e8cd-4a8c-a465-4f5bfa350a0e",
   "metadata": {},
   "outputs": [],
   "source": [
    "# then we group by the month and sum the revenue\n",
    "\n",
    "monthly_sales = final_merged.groupby('month')['revenue'].sum()"
   ]
  },
  {
   "cell_type": "code",
   "execution_count": 35,
   "id": "ff42b990-c5bd-4395-9b72-daf0301b7a32",
   "metadata": {},
   "outputs": [
    {
     "name": "stdout",
     "output_type": "stream",
     "text": [
      "monthy sales:\n",
      " month_number  month    \n",
      "1             January      69793.30\n",
      "2             February     65159.60\n",
      "3             March        70397.10\n",
      "4             April        68736.80\n",
      "5             May          71402.75\n",
      "6             June         68230.20\n",
      "7             July         72557.90\n",
      "8             August       68278.25\n",
      "9             September    64180.05\n",
      "10            October      64027.60\n",
      "11            November     70395.35\n",
      "12            December     64701.15\n",
      "Name: revenue, dtype: float64\n"
     ]
    }
   ],
   "source": [
    "final_merged['month_number'] = final_merged['date'].dt.month\n",
    "monthly_sales = final_merged.groupby(['month_number', 'month'])['revenue'].sum().sort_index()\n",
    "\n",
    "print(\"monthy sales:\\n\", monthly_sales)"
   ]
  },
  {
   "cell_type": "code",
   "execution_count": 36,
   "id": "c9656f78-d2dc-497f-9751-214bb901292c",
   "metadata": {},
   "outputs": [
    {
     "data": {
      "image/png": "[encoded data removed]",
      "text/plain": [
       "<Figure size 640x480 with 1 Axes>"
      ]
     },
     "metadata": {},
     "output_type": "display_data"
    }
   ],
   "source": [
    "# visualize to check noticable trends\n",
    "\n",
    "monthly_sales.plot(kind='line', marker='o', color='purple')\n",
    "plt.title('Monthly Sales Trend')\n",
    "plt.xlabel('Month')\n",
    "plt.ylabel('Revenue ($)')\n",
    "plt.xticks(rotation=45)\n",
    "plt.tight_layout()\n",
    "plt.show()"
   ]
  },
  {
   "cell_type": "markdown",
   "id": "d1de1872-1861-4d42-b155-0db292f13915",
   "metadata": {},
   "source": [
    "## Insights Noticed From The Graph Above"
   ]
  },
  {
   "cell_type": "markdown",
   "id": "82bb5346-920a-4ba5-a9e9-c26f780ab445",
   "metadata": {},
   "source": [
    "- The Highest Sales occurred in July, indicating a strong mid year demand possibly due to holidays, summer events, or advertisement been done.\n",
    "- The Lowest Sales were recorded in November, suggesting a possible dip before the holiday season or reduced customer activities.\n",
    "- The sales pattern throughout the year appears fairly stable, mostly ranging between  $66,000 and  $72,000, with noticeable fluctuations every other month.\n",
    "- A repeating up and down rhythm may suggest a two month customer cycle or marketing like sales promotions and advertisements."
   ]
  },
  {
   "cell_type": "markdown",
   "id": "7b745d4e-418b-4a06-acff-be7d4fae686a",
   "metadata": {},
   "source": [
    "## Low Performing Pizzas"
   ]
  },
  {
   "cell_type": "code",
   "execution_count": 37,
   "id": "21bdb40e-dc77-40e6-9e82-e9129161a356",
   "metadata": {},
   "outputs": [
    {
     "name": "stdout",
     "output_type": "stream",
     "text": [
      "Lowest-Selling Pizza Types:\n",
      "\n",
      "pizza_type_id\n",
      "brie_carre      490\n",
      "mediterraneo    934\n",
      "calabrese       937\n",
      "spinach_supr    950\n",
      "soppressata     961\n",
      "Name: quantity, dtype: int64\n"
     ]
    }
   ],
   "source": [
    "# firstly we group by pizza_type_id and sum the quantity\n",
    "\n",
    "low_performers = final_merged.groupby('pizza_type_id')['quantity'].sum().sort_values()\n",
    "print(\"Lowest-Selling Pizza Types:\\n\")\n",
    "print(low_performers.head(5))"
   ]
  },
  {
   "cell_type": "code",
   "execution_count": 38,
   "id": "0667f870-0300-452a-8b00-4053d4e575a9",
   "metadata": {},
   "outputs": [
    {
     "name": "stdout",
     "output_type": "stream",
     "text": [
      "Pizza Types with Lowest Revenue:\n",
      "\n",
      "pizza_type_id\n",
      "brie_carre      11588.50\n",
      "green_garden    13955.75\n",
      "spinach_supr    15277.75\n",
      "mediterraneo    15360.50\n",
      "spin_pesto      15596.00\n",
      "Name: revenue, dtype: float64\n"
     ]
    }
   ],
   "source": [
    "# secondly we check the low performing pizza by revenue\n",
    "\n",
    "low_revenue = final_merged.groupby('pizza_type_id')['revenue'].sum().sort_values()\n",
    "print(\"Pizza Types with Lowest Revenue:\\n\")\n",
    "print(low_revenue.head(5))"
   ]
  },
  {
   "cell_type": "code",
   "execution_count": 39,
   "id": "78d21eb0-c5d4-43c7-bc15-4f867cdd0028",
   "metadata": {},
   "outputs": [
    {
     "data": {
      "image/png": "[encoded data removed]",
      "text/plain": [
       "<Figure size 800x500 with 1 Axes>"
      ]
     },
     "metadata": {},
     "output_type": "display_data"
    }
   ],
   "source": [
    "# Group by pizza type and sum quantity\n",
    "low_5_pizzas = final_merged.groupby('name')['quantity'].sum().sort_values(ascending=True).head(5)\n",
    "\n",
    "# Plot\n",
    "plt.figure(figsize=(8, 5))\n",
    "low_5_pizzas.plot(kind='bar', color='red')\n",
    "plt.title('Bottom 5 Pizza Types by Quantity Sold')\n",
    "plt.xlabel('Pizza Name')\n",
    "plt.ylabel('Quantity Sold')\n",
    "plt.xticks(rotation=45)\n",
    "plt.tight_layout()\n",
    "plt.show()"
   ]
  },
  {
   "cell_type": "markdown",
   "id": "3e283643-0cb7-437d-9cdf-1ac3c13ea3cd",
   "metadata": {},
   "source": [
    "## Insights Noticed After Checking The Low Performing Pizzas."
   ]
  },
  {
   "cell_type": "markdown",
   "id": "6ec6e049-9491-428e-ba79-69b1be47e17b",
   "metadata": {},
   "source": [
    "- pizza types like brie_carre, spinach_supr, mediterraneo are consistently appearing in the bottom 5 for both quantity and revenue, they may need:\n",
    "- A recipe change\n",
    "- Better marketing and advertisement\n",
    "- Replacement on the menu."
   ]
  },
  {
   "cell_type": "code",
   "execution_count": null,
   "id": "24b3d039-b856-46c9-8d40-166aa36d83b8",
   "metadata": {},
   "outputs": [],
   "source": []
  },
  {
   "cell_type": "code",
   "execution_count": null,
   "id": "6302f9be-d888-4daf-9264-800973d129a4",
   "metadata": {},
   "outputs": [],
   "source": []
  }
 ],
 "metadata": {
  "kernelspec": {
   "display_name": "Python 3 (ipykernel)",
   "language": "python",
   "name": "python3"
  },
  "language_info": {
   "codemirror_mode": {
    "name": "ipython",
    "version": 3
   },
   "file_extension": ".py",
   "mimetype": "text/x-python",
   "name": "python",
   "nbconvert_exporter": "python",
   "pygments_lexer": "ipython3",
   "version": "3.12.4"
  }
 },
 "nbformat": 4,
 "nbformat_minor": 5
}
